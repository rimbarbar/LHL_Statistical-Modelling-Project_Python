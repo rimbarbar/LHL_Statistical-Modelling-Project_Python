{
 "cells": [
  {
   "cell_type": "code",
   "execution_count": 8,
   "metadata": {},
   "outputs": [],
   "source": [
    "# imports\n",
    "import pandas as pd\n",
    "import statsmodels.api as sm\n",
    "import numpy as np\n",
    "import matplotlib.pyplot as plt\n",
    "import seaborn as sns\n",
    "combined_df = pd.read_csv('../data/combined_df.csv')\n"
   ]
  },
  {
   "cell_type": "markdown",
   "metadata": {},
   "source": [
    "Build a regression model."
   ]
  },
  {
   "cell_type": "code",
   "execution_count": 9,
   "metadata": {},
   "outputs": [],
   "source": [
    "# select independent and dependent variables\n",
    "X = combined_df[['rating', 'lat', 'lon']]  # Independent variables\n",
    "y = combined_df['available_bikes']  # Dependent variable"
   ]
  },
  {
   "cell_type": "code",
   "execution_count": 10,
   "metadata": {},
   "outputs": [],
   "source": [
    "# Handle missing values\n",
    "X = X.dropna()\n",
    "y = y[X.index]  # Drop rows in y that correspond to dropped rows in X"
   ]
  },
  {
   "cell_type": "code",
   "execution_count": 11,
   "metadata": {},
   "outputs": [],
   "source": [
    "# Add constant to independent variables\n",
    "X = sm.add_constant(X)"
   ]
  },
  {
   "cell_type": "code",
   "execution_count": null,
   "metadata": {},
   "outputs": [],
   "source": [
    "# Build regression model\n",
    "model = sm.OLS(y, X).fit()  "
   ]
  },
  {
   "cell_type": "markdown",
   "metadata": {},
   "source": [
    "Provide model output and an interpretation of the results. "
   ]
  },
  {
   "cell_type": "code",
   "execution_count": 13,
   "metadata": {},
   "outputs": [
    {
     "name": "stdout",
     "output_type": "stream",
     "text": [
      "                            OLS Regression Results                            \n",
      "==============================================================================\n",
      "Dep. Variable:        available_bikes   R-squared:                       0.110\n",
      "Model:                            OLS   Adj. R-squared:                  0.109\n",
      "Method:                 Least Squares   F-statistic:                     129.1\n",
      "Date:                Thu, 19 Dec 2024   Prob (F-statistic):           7.42e-79\n",
      "Time:                        21:36:59   Log-Likelihood:                -9514.5\n",
      "No. Observations:                3143   AIC:                         1.904e+04\n",
      "Df Residuals:                    3139   BIC:                         1.906e+04\n",
      "Df Model:                           3                                         \n",
      "Covariance Type:            nonrobust                                         \n",
      "==============================================================================\n",
      "                 coef    std err          t      P>|t|      [0.025      0.975]\n",
      "------------------------------------------------------------------------------\n",
      "const      -1.454e+04    900.067    -16.152      0.000   -1.63e+04   -1.28e+04\n",
      "rating         0.0402      0.047      0.855      0.393      -0.052       0.132\n",
      "lat          429.1548     24.155     17.766      0.000     381.793     476.517\n",
      "lon         -569.2514     30.151    -18.880      0.000    -628.368    -510.134\n",
      "==============================================================================\n",
      "Omnibus:                      167.275   Durbin-Watson:                   0.188\n",
      "Prob(Omnibus):                  0.000   Jarque-Bera (JB):               99.711\n",
      "Skew:                           0.296   Prob(JB):                     2.23e-22\n",
      "Kurtosis:                       2.359   Cond. No.                     4.49e+05\n",
      "==============================================================================\n",
      "\n",
      "Notes:\n",
      "[1] Standard Errors assume that the covariance matrix of the errors is correctly specified.\n",
      "[2] The condition number is large, 4.49e+05. This might indicate that there are\n",
      "strong multicollinearity or other numerical problems.\n"
     ]
    }
   ],
   "source": [
    "# Print model summary\n",
    "model_summary = model.summary()\n",
    "print(model_summary)\n"
   ]
  },
  {
   "cell_type": "markdown",
   "metadata": {},
   "source": [
    "# Stretch"
   ]
  },
  {
   "cell_type": "markdown",
   "metadata": {},
   "source": [
    "How can you turn the regression model into a classification model?"
   ]
  },
  {
   "cell_type": "code",
   "execution_count": null,
   "metadata": {},
   "outputs": [],
   "source": []
  }
 ],
 "metadata": {
  "kernelspec": {
   "display_name": "Python 3",
   "language": "python",
   "name": "python3"
  },
  "language_info": {
   "codemirror_mode": {
    "name": "ipython",
    "version": 3
   },
   "file_extension": ".py",
   "mimetype": "text/x-python",
   "name": "python",
   "nbconvert_exporter": "python",
   "pygments_lexer": "ipython3",
   "version": "3.9.6"
  }
 },
 "nbformat": 4,
 "nbformat_minor": 4
}
